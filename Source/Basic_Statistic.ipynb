{
  "nbformat": 4,
  "nbformat_minor": 0,
  "metadata": {
    "colab": {
      "provenance": []
    },
    "kernelspec": {
      "name": "python3",
      "display_name": "Python 3"
    },
    "language_info": {
      "name": "python"
    }
  },
  "cells": [
    {
      "cell_type": "code",
      "execution_count": null,
      "metadata": {
        "colab": {
          "base_uri": "https://localhost:8080/"
        },
        "id": "lFmKUotwtih3",
        "outputId": "efabb97e-17aa-4422-ad03-00b657136ae0"
      },
      "outputs": [
        {
          "output_type": "stream",
          "name": "stdout",
          "text": [
            "Downloading...\n",
            "From (original): https://drive.google.com/uc?id=1DbIwYHBrofwQXeLhteHDWMQ69RkiBIBv\n",
            "From (redirected): https://drive.google.com/uc?id=1DbIwYHBrofwQXeLhteHDWMQ69RkiBIBv&confirm=t&uuid=c694acb0-adcd-41da-84e3-f37f5bf3946e\n",
            "To: /content/ise-dsc01-train_v2.json\n",
            "100% 161M/161M [00:00<00:00, 217MB/s]\n",
            "Downloading...\n",
            "From: https://drive.google.com/uc?id=1iPN3hOb0Kt0Qkzq2MoEASXMTliEUJs0a\n",
            "To: /content/ise-dsc01-private-test-offcial.json\n",
            "100% 21.1M/21.1M [00:00<00:00, 132MB/s] \n",
            "Downloading...\n",
            "From: https://drive.google.com/uc?id=1VA3fYB0Llf29cvu5AHbRn6bCpAWRODgo\n",
            "To: /content/ise-dsc01-public-test-offcial.json\n",
            "100% 19.3M/19.3M [00:00<00:00, 171MB/s]\n"
          ]
        }
      ],
      "source": [
        "!gdown 1DbIwYHBrofwQXeLhteHDWMQ69RkiBIBv\n",
        "!gdown 1iPN3hOb0Kt0Qkzq2MoEASXMTliEUJs0a\n",
        "!gdown 1VA3fYB0Llf29cvu5AHbRn6bCpAWRODgo"
      ]
    },
    {
      "cell_type": "code",
      "source": [
        "import pandas as pd\n",
        "import json\n",
        "\n",
        "with open(\"/content/ise-dsc01-train_v2.json\") as f:\n",
        "    json_data = json.load(f)\n",
        "\n",
        "data = pd.DataFrame.from_dict(json_data, orient=\"index\")\n",
        "data"
      ],
      "metadata": {
        "colab": {
          "base_uri": "https://localhost:8080/",
          "height": 597
        },
        "id": "9onvWIiEuS9i",
        "outputId": "8b8b3d0a-4b47-4e74-9f17-189bac20a6e0"
      },
      "execution_count": null,
      "outputs": [
        {
          "output_type": "execute_result",
          "data": {
            "text/plain": [
              "                                                 context  \\\n",
              "7125   Phát biểu tại lễ ký kết vào ngày 17/11, Giám đ...   \n",
              "7126   Phát biểu tại lễ ký kết vào ngày 17/11, Giám đ...   \n",
              "7127   Phát biểu tại lễ ký kết vào ngày 17/11, Giám đ...   \n",
              "7128   Đối với các nhà khoa học, trí thức, điều kiện ...   \n",
              "7129   Đối với các nhà khoa học, trí thức, điều kiện ...   \n",
              "...                                                  ...   \n",
              "35077  \"Tôi cảm nhận mình đang sống, đang tự do\", Bia...   \n",
              "35078  \"Tôi cảm nhận mình đang sống, đang tự do\", Bia...   \n",
              "35079  \"Tôi cảm nhận mình đang sống, đang tự do\", Bia...   \n",
              "35080  \"Tôi không có đầu óc đầu tư chứng khoán và đan...   \n",
              "35081  \"Tôi không có đầu óc đầu tư chứng khoán và đan...   \n",
              "\n",
              "                                                   claim    verdict  \\\n",
              "7125   Ngoài việc không giới hạn mức lương, công ty c...  SUPPORTED   \n",
              "7126   Thành lập năm 2016, phát triển phần mềm, tổ ch...  SUPPORTED   \n",
              "7127   Nhằm phát triển đội ngũ, FABA thường tổ chức n...  SUPPORTED   \n",
              "7128   Sở dĩ vị trí kỹ sư phần mềm có mức lương cao n...  SUPPORTED   \n",
              "7129   Theo Adeco Việt Nam, mức lương cao nhất đối vớ...  SUPPORTED   \n",
              "...                                                  ...        ...   \n",
              "35077  Thái Lan không dự kiến đón ít nhất 5 triệu khá...    REFUTED   \n",
              "35078  Trước đại dịch, người Trung Quốc chiếm gần 1/2...    REFUTED   \n",
              "35079  Zhu nói rằng Số tiền 290.000 USD không thể mua...    REFUTED   \n",
              "35080  Tiền tiết kiệm của các hộ gia đình giảm 9,9 ng...    REFUTED   \n",
              "35081  Zhu cho hay cô chưa tham gia vào nhiều cuộc đấ...    REFUTED   \n",
              "\n",
              "                                                evidence    domain  \n",
              "7125   Công ty cũng có chế độ đãi ngộ tốt, có lương t...  giao-duc  \n",
              "7126   FABA Technology thành lập năm 2016, chuyên cun...  giao-duc  \n",
              "7127   Bên cạnh đó, FABA thường xuyên tổ chức những d...  giao-duc  \n",
              "7128   Theo Adeco Việt Nam, mức lương cao nhất đối vớ...  giao-duc  \n",
              "7129   Trong khi đó, theo báo cáo \"Thị trường nhân lự...  giao-duc  \n",
              "...                                                  ...       ...  \n",
              "35077  Thái Lan dự kiến đón ít nhất 5 triệu khách Tru...  the-gioi  \n",
              "35078  Trước đại dịch, người Trung Quốc chiếm gần 1/3...  the-gioi  \n",
              "35079  \"Số tiền đó chỉ có thể mua được căn hộ nhỏ ở v...  the-gioi  \n",
              "35080  Tiền tiết kiệm của các hộ gia đình tăng 9,9 ng...  the-gioi  \n",
              "35081  Cô cho hay đã tham gia vào nhiều cuộc đấu giá ...  the-gioi  \n",
              "\n",
              "[37967 rows x 5 columns]"
            ],
            "text/html": [
              "\n",
              "  <div id=\"df-d9be56be-bbbe-4888-8df7-52c2f2e1f1d4\" class=\"colab-df-container\">\n",
              "    <div>\n",
              "<style scoped>\n",
              "    .dataframe tbody tr th:only-of-type {\n",
              "        vertical-align: middle;\n",
              "    }\n",
              "\n",
              "    .dataframe tbody tr th {\n",
              "        vertical-align: top;\n",
              "    }\n",
              "\n",
              "    .dataframe thead th {\n",
              "        text-align: right;\n",
              "    }\n",
              "</style>\n",
              "<table border=\"1\" class=\"dataframe\">\n",
              "  <thead>\n",
              "    <tr style=\"text-align: right;\">\n",
              "      <th></th>\n",
              "      <th>context</th>\n",
              "      <th>claim</th>\n",
              "      <th>verdict</th>\n",
              "      <th>evidence</th>\n",
              "      <th>domain</th>\n",
              "    </tr>\n",
              "  </thead>\n",
              "  <tbody>\n",
              "    <tr>\n",
              "      <th>7125</th>\n",
              "      <td>Phát biểu tại lễ ký kết vào ngày 17/11, Giám đ...</td>\n",
              "      <td>Ngoài việc không giới hạn mức lương, công ty c...</td>\n",
              "      <td>SUPPORTED</td>\n",
              "      <td>Công ty cũng có chế độ đãi ngộ tốt, có lương t...</td>\n",
              "      <td>giao-duc</td>\n",
              "    </tr>\n",
              "    <tr>\n",
              "      <th>7126</th>\n",
              "      <td>Phát biểu tại lễ ký kết vào ngày 17/11, Giám đ...</td>\n",
              "      <td>Thành lập năm 2016, phát triển phần mềm, tổ ch...</td>\n",
              "      <td>SUPPORTED</td>\n",
              "      <td>FABA Technology thành lập năm 2016, chuyên cun...</td>\n",
              "      <td>giao-duc</td>\n",
              "    </tr>\n",
              "    <tr>\n",
              "      <th>7127</th>\n",
              "      <td>Phát biểu tại lễ ký kết vào ngày 17/11, Giám đ...</td>\n",
              "      <td>Nhằm phát triển đội ngũ, FABA thường tổ chức n...</td>\n",
              "      <td>SUPPORTED</td>\n",
              "      <td>Bên cạnh đó, FABA thường xuyên tổ chức những d...</td>\n",
              "      <td>giao-duc</td>\n",
              "    </tr>\n",
              "    <tr>\n",
              "      <th>7128</th>\n",
              "      <td>Đối với các nhà khoa học, trí thức, điều kiện ...</td>\n",
              "      <td>Sở dĩ vị trí kỹ sư phần mềm có mức lương cao n...</td>\n",
              "      <td>SUPPORTED</td>\n",
              "      <td>Theo Adeco Việt Nam, mức lương cao nhất đối vớ...</td>\n",
              "      <td>giao-duc</td>\n",
              "    </tr>\n",
              "    <tr>\n",
              "      <th>7129</th>\n",
              "      <td>Đối với các nhà khoa học, trí thức, điều kiện ...</td>\n",
              "      <td>Theo Adeco Việt Nam, mức lương cao nhất đối vớ...</td>\n",
              "      <td>SUPPORTED</td>\n",
              "      <td>Trong khi đó, theo báo cáo \"Thị trường nhân lự...</td>\n",
              "      <td>giao-duc</td>\n",
              "    </tr>\n",
              "    <tr>\n",
              "      <th>...</th>\n",
              "      <td>...</td>\n",
              "      <td>...</td>\n",
              "      <td>...</td>\n",
              "      <td>...</td>\n",
              "      <td>...</td>\n",
              "    </tr>\n",
              "    <tr>\n",
              "      <th>35077</th>\n",
              "      <td>\"Tôi cảm nhận mình đang sống, đang tự do\", Bia...</td>\n",
              "      <td>Thái Lan không dự kiến đón ít nhất 5 triệu khá...</td>\n",
              "      <td>REFUTED</td>\n",
              "      <td>Thái Lan dự kiến đón ít nhất 5 triệu khách Tru...</td>\n",
              "      <td>the-gioi</td>\n",
              "    </tr>\n",
              "    <tr>\n",
              "      <th>35078</th>\n",
              "      <td>\"Tôi cảm nhận mình đang sống, đang tự do\", Bia...</td>\n",
              "      <td>Trước đại dịch, người Trung Quốc chiếm gần 1/2...</td>\n",
              "      <td>REFUTED</td>\n",
              "      <td>Trước đại dịch, người Trung Quốc chiếm gần 1/3...</td>\n",
              "      <td>the-gioi</td>\n",
              "    </tr>\n",
              "    <tr>\n",
              "      <th>35079</th>\n",
              "      <td>\"Tôi cảm nhận mình đang sống, đang tự do\", Bia...</td>\n",
              "      <td>Zhu nói rằng Số tiền 290.000 USD không thể mua...</td>\n",
              "      <td>REFUTED</td>\n",
              "      <td>\"Số tiền đó chỉ có thể mua được căn hộ nhỏ ở v...</td>\n",
              "      <td>the-gioi</td>\n",
              "    </tr>\n",
              "    <tr>\n",
              "      <th>35080</th>\n",
              "      <td>\"Tôi không có đầu óc đầu tư chứng khoán và đan...</td>\n",
              "      <td>Tiền tiết kiệm của các hộ gia đình giảm 9,9 ng...</td>\n",
              "      <td>REFUTED</td>\n",
              "      <td>Tiền tiết kiệm của các hộ gia đình tăng 9,9 ng...</td>\n",
              "      <td>the-gioi</td>\n",
              "    </tr>\n",
              "    <tr>\n",
              "      <th>35081</th>\n",
              "      <td>\"Tôi không có đầu óc đầu tư chứng khoán và đan...</td>\n",
              "      <td>Zhu cho hay cô chưa tham gia vào nhiều cuộc đấ...</td>\n",
              "      <td>REFUTED</td>\n",
              "      <td>Cô cho hay đã tham gia vào nhiều cuộc đấu giá ...</td>\n",
              "      <td>the-gioi</td>\n",
              "    </tr>\n",
              "  </tbody>\n",
              "</table>\n",
              "<p>37967 rows × 5 columns</p>\n",
              "</div>\n",
              "    <div class=\"colab-df-buttons\">\n",
              "\n",
              "  <div class=\"colab-df-container\">\n",
              "    <button class=\"colab-df-convert\" onclick=\"convertToInteractive('df-d9be56be-bbbe-4888-8df7-52c2f2e1f1d4')\"\n",
              "            title=\"Convert this dataframe to an interactive table.\"\n",
              "            style=\"display:none;\">\n",
              "\n",
              "  <svg xmlns=\"http://www.w3.org/2000/svg\" height=\"24px\" viewBox=\"0 -960 960 960\">\n",
              "    <path d=\"M120-120v-720h720v720H120Zm60-500h600v-160H180v160Zm220 220h160v-160H400v160Zm0 220h160v-160H400v160ZM180-400h160v-160H180v160Zm440 0h160v-160H620v160ZM180-180h160v-160H180v160Zm440 0h160v-160H620v160Z\"/>\n",
              "  </svg>\n",
              "    </button>\n",
              "\n",
              "  <style>\n",
              "    .colab-df-container {\n",
              "      display:flex;\n",
              "      gap: 12px;\n",
              "    }\n",
              "\n",
              "    .colab-df-convert {\n",
              "      background-color: #E8F0FE;\n",
              "      border: none;\n",
              "      border-radius: 50%;\n",
              "      cursor: pointer;\n",
              "      display: none;\n",
              "      fill: #1967D2;\n",
              "      height: 32px;\n",
              "      padding: 0 0 0 0;\n",
              "      width: 32px;\n",
              "    }\n",
              "\n",
              "    .colab-df-convert:hover {\n",
              "      background-color: #E2EBFA;\n",
              "      box-shadow: 0px 1px 2px rgba(60, 64, 67, 0.3), 0px 1px 3px 1px rgba(60, 64, 67, 0.15);\n",
              "      fill: #174EA6;\n",
              "    }\n",
              "\n",
              "    .colab-df-buttons div {\n",
              "      margin-bottom: 4px;\n",
              "    }\n",
              "\n",
              "    [theme=dark] .colab-df-convert {\n",
              "      background-color: #3B4455;\n",
              "      fill: #D2E3FC;\n",
              "    }\n",
              "\n",
              "    [theme=dark] .colab-df-convert:hover {\n",
              "      background-color: #434B5C;\n",
              "      box-shadow: 0px 1px 3px 1px rgba(0, 0, 0, 0.15);\n",
              "      filter: drop-shadow(0px 1px 2px rgba(0, 0, 0, 0.3));\n",
              "      fill: #FFFFFF;\n",
              "    }\n",
              "  </style>\n",
              "\n",
              "    <script>\n",
              "      const buttonEl =\n",
              "        document.querySelector('#df-d9be56be-bbbe-4888-8df7-52c2f2e1f1d4 button.colab-df-convert');\n",
              "      buttonEl.style.display =\n",
              "        google.colab.kernel.accessAllowed ? 'block' : 'none';\n",
              "\n",
              "      async function convertToInteractive(key) {\n",
              "        const element = document.querySelector('#df-d9be56be-bbbe-4888-8df7-52c2f2e1f1d4');\n",
              "        const dataTable =\n",
              "          await google.colab.kernel.invokeFunction('convertToInteractive',\n",
              "                                                    [key], {});\n",
              "        if (!dataTable) return;\n",
              "\n",
              "        const docLinkHtml = 'Like what you see? Visit the ' +\n",
              "          '<a target=\"_blank\" href=https://colab.research.google.com/notebooks/data_table.ipynb>data table notebook</a>'\n",
              "          + ' to learn more about interactive tables.';\n",
              "        element.innerHTML = '';\n",
              "        dataTable['output_type'] = 'display_data';\n",
              "        await google.colab.output.renderOutput(dataTable, element);\n",
              "        const docLink = document.createElement('div');\n",
              "        docLink.innerHTML = docLinkHtml;\n",
              "        element.appendChild(docLink);\n",
              "      }\n",
              "    </script>\n",
              "  </div>\n",
              "\n",
              "\n",
              "<div id=\"df-cd34d318-889e-4a87-b384-8c8709ecef7c\">\n",
              "  <button class=\"colab-df-quickchart\" onclick=\"quickchart('df-cd34d318-889e-4a87-b384-8c8709ecef7c')\"\n",
              "            title=\"Suggest charts\"\n",
              "            style=\"display:none;\">\n",
              "\n",
              "<svg xmlns=\"http://www.w3.org/2000/svg\" height=\"24px\"viewBox=\"0 0 24 24\"\n",
              "     width=\"24px\">\n",
              "    <g>\n",
              "        <path d=\"M19 3H5c-1.1 0-2 .9-2 2v14c0 1.1.9 2 2 2h14c1.1 0 2-.9 2-2V5c0-1.1-.9-2-2-2zM9 17H7v-7h2v7zm4 0h-2V7h2v10zm4 0h-2v-4h2v4z\"/>\n",
              "    </g>\n",
              "</svg>\n",
              "  </button>\n",
              "\n",
              "<style>\n",
              "  .colab-df-quickchart {\n",
              "      --bg-color: #E8F0FE;\n",
              "      --fill-color: #1967D2;\n",
              "      --hover-bg-color: #E2EBFA;\n",
              "      --hover-fill-color: #174EA6;\n",
              "      --disabled-fill-color: #AAA;\n",
              "      --disabled-bg-color: #DDD;\n",
              "  }\n",
              "\n",
              "  [theme=dark] .colab-df-quickchart {\n",
              "      --bg-color: #3B4455;\n",
              "      --fill-color: #D2E3FC;\n",
              "      --hover-bg-color: #434B5C;\n",
              "      --hover-fill-color: #FFFFFF;\n",
              "      --disabled-bg-color: #3B4455;\n",
              "      --disabled-fill-color: #666;\n",
              "  }\n",
              "\n",
              "  .colab-df-quickchart {\n",
              "    background-color: var(--bg-color);\n",
              "    border: none;\n",
              "    border-radius: 50%;\n",
              "    cursor: pointer;\n",
              "    display: none;\n",
              "    fill: var(--fill-color);\n",
              "    height: 32px;\n",
              "    padding: 0;\n",
              "    width: 32px;\n",
              "  }\n",
              "\n",
              "  .colab-df-quickchart:hover {\n",
              "    background-color: var(--hover-bg-color);\n",
              "    box-shadow: 0 1px 2px rgba(60, 64, 67, 0.3), 0 1px 3px 1px rgba(60, 64, 67, 0.15);\n",
              "    fill: var(--button-hover-fill-color);\n",
              "  }\n",
              "\n",
              "  .colab-df-quickchart-complete:disabled,\n",
              "  .colab-df-quickchart-complete:disabled:hover {\n",
              "    background-color: var(--disabled-bg-color);\n",
              "    fill: var(--disabled-fill-color);\n",
              "    box-shadow: none;\n",
              "  }\n",
              "\n",
              "  .colab-df-spinner {\n",
              "    border: 2px solid var(--fill-color);\n",
              "    border-color: transparent;\n",
              "    border-bottom-color: var(--fill-color);\n",
              "    animation:\n",
              "      spin 1s steps(1) infinite;\n",
              "  }\n",
              "\n",
              "  @keyframes spin {\n",
              "    0% {\n",
              "      border-color: transparent;\n",
              "      border-bottom-color: var(--fill-color);\n",
              "      border-left-color: var(--fill-color);\n",
              "    }\n",
              "    20% {\n",
              "      border-color: transparent;\n",
              "      border-left-color: var(--fill-color);\n",
              "      border-top-color: var(--fill-color);\n",
              "    }\n",
              "    30% {\n",
              "      border-color: transparent;\n",
              "      border-left-color: var(--fill-color);\n",
              "      border-top-color: var(--fill-color);\n",
              "      border-right-color: var(--fill-color);\n",
              "    }\n",
              "    40% {\n",
              "      border-color: transparent;\n",
              "      border-right-color: var(--fill-color);\n",
              "      border-top-color: var(--fill-color);\n",
              "    }\n",
              "    60% {\n",
              "      border-color: transparent;\n",
              "      border-right-color: var(--fill-color);\n",
              "    }\n",
              "    80% {\n",
              "      border-color: transparent;\n",
              "      border-right-color: var(--fill-color);\n",
              "      border-bottom-color: var(--fill-color);\n",
              "    }\n",
              "    90% {\n",
              "      border-color: transparent;\n",
              "      border-bottom-color: var(--fill-color);\n",
              "    }\n",
              "  }\n",
              "</style>\n",
              "\n",
              "  <script>\n",
              "    async function quickchart(key) {\n",
              "      const quickchartButtonEl =\n",
              "        document.querySelector('#' + key + ' button');\n",
              "      quickchartButtonEl.disabled = true;  // To prevent multiple clicks.\n",
              "      quickchartButtonEl.classList.add('colab-df-spinner');\n",
              "      try {\n",
              "        const charts = await google.colab.kernel.invokeFunction(\n",
              "            'suggestCharts', [key], {});\n",
              "      } catch (error) {\n",
              "        console.error('Error during call to suggestCharts:', error);\n",
              "      }\n",
              "      quickchartButtonEl.classList.remove('colab-df-spinner');\n",
              "      quickchartButtonEl.classList.add('colab-df-quickchart-complete');\n",
              "    }\n",
              "    (() => {\n",
              "      let quickchartButtonEl =\n",
              "        document.querySelector('#df-cd34d318-889e-4a87-b384-8c8709ecef7c button');\n",
              "      quickchartButtonEl.style.display =\n",
              "        google.colab.kernel.accessAllowed ? 'block' : 'none';\n",
              "    })();\n",
              "  </script>\n",
              "</div>\n",
              "    </div>\n",
              "  </div>\n"
            ]
          },
          "metadata": {},
          "execution_count": 51
        }
      ]
    },
    {
      "cell_type": "code",
      "source": [
        "verdict_counts = data['verdict'].value_counts()\n",
        "\n",
        "print(verdict_counts)"
      ],
      "metadata": {
        "id": "_Me0osv9z0ik"
      },
      "execution_count": null,
      "outputs": []
    },
    {
      "cell_type": "code",
      "source": [
        "unique_samples = data['context'].nunique()\n",
        "unique_samples"
      ],
      "metadata": {
        "colab": {
          "base_uri": "https://localhost:8080/"
        },
        "id": "gsNxhe6U1LZg",
        "outputId": "0bf886dd-fa8d-46f4-8c53-4b77a021428e"
      },
      "execution_count": null,
      "outputs": [
        {
          "output_type": "execute_result",
          "data": {
            "text/plain": [
              "1319"
            ]
          },
          "metadata": {},
          "execution_count": 36
        }
      ]
    },
    {
      "cell_type": "code",
      "source": [
        "unique_contexts = data.groupby('verdict')['context'].nunique()\n",
        "\n",
        "print(unique_contexts)"
      ],
      "metadata": {
        "colab": {
          "base_uri": "https://localhost:8080/"
        },
        "id": "2THX6VEN1YmM",
        "outputId": "1c094fe6-3878-4157-ea2f-0633590bef18"
      },
      "execution_count": null,
      "outputs": [
        {
          "output_type": "stream",
          "name": "stdout",
          "text": [
            "verdict\n",
            "NEI          3754\n",
            "REFUTED      3488\n",
            "SUPPORTED    3347\n",
            "Name: context, dtype: int64\n"
          ]
        }
      ]
    },
    {
      "cell_type": "code",
      "source": [
        "import nltk\n",
        "nltk.download('punkt')\n",
        "import pandas as pd"
      ],
      "metadata": {
        "colab": {
          "base_uri": "https://localhost:8080/"
        },
        "id": "2_iBsn0KwyjM",
        "outputId": "c19c953c-4343-4ddc-d8ed-85aaee477653"
      },
      "execution_count": null,
      "outputs": [
        {
          "output_type": "stream",
          "name": "stderr",
          "text": [
            "[nltk_data] Downloading package punkt to /root/nltk_data...\n",
            "[nltk_data]   Unzipping tokenizers/punkt.zip.\n"
          ]
        }
      ]
    },
    {
      "cell_type": "code",
      "source": [
        "data['Len_Context'] = data['context'].apply(lambda x: len(nltk.word_tokenize(x)))"
      ],
      "metadata": {
        "id": "kFl0Tulhw1wq"
      },
      "execution_count": null,
      "outputs": []
    },
    {
      "cell_type": "code",
      "source": [
        "do_dai_trung_binh = data['Len_Context'].mean()\n",
        "\n",
        "do_dai_dai_nhat = data['Len_Context'].max()\n",
        "\n",
        "do_dai_ngan_nhat = data['Len_Context'].min()\n",
        "\n",
        "print('Độ dài trung bình:', do_dai_trung_binh)\n",
        "print('Độ dài dài nhất:', do_dai_dai_nhat)\n",
        "print('Độ dài ngắn nhất:', do_dai_ngan_nhat)\n",
        "print(\"median: \" ,data['Len_Context'].median())"
      ],
      "metadata": {
        "colab": {
          "base_uri": "https://localhost:8080/"
        },
        "id": "ddOJmd94yjNl",
        "outputId": "8a003973-f901-4c49-be11-7149363152bc"
      },
      "execution_count": null,
      "outputs": [
        {
          "output_type": "stream",
          "name": "stdout",
          "text": [
            "Độ dài trung bình: 707.8181842126057\n",
            "Độ dài dài nhất: 5338\n",
            "Độ dài ngắn nhất: 52\n",
            "median:  638.0\n"
          ]
        }
      ]
    },
    {
      "cell_type": "code",
      "source": [
        "grouped = data.groupby('verdict')['Len_Context'].agg(['mean', 'max', 'min', 'median'])\n",
        "\n",
        "print(grouped)"
      ],
      "metadata": {
        "colab": {
          "base_uri": "https://localhost:8080/"
        },
        "id": "25MCX5L8yh9H",
        "outputId": "3235fa52-7b3e-4632-b749-122e28fe0e9b"
      },
      "execution_count": null,
      "outputs": [
        {
          "output_type": "stream",
          "name": "stdout",
          "text": [
            "                 mean   max  min  median\n",
            "verdict                                 \n",
            "NEI        725.358420  5338   52   657.0\n",
            "REFUTED    704.455390  5338   52   632.0\n",
            "SUPPORTED  693.869779  2711   66   623.0\n"
          ]
        }
      ]
    },
    {
      "cell_type": "code",
      "source": [
        "data['Len_claim'] = data['claim'].apply(lambda x: len(nltk.word_tokenize(x)))"
      ],
      "metadata": {
        "id": "on6odW0Kx-WD"
      },
      "execution_count": null,
      "outputs": []
    },
    {
      "cell_type": "code",
      "source": [
        "do_dai_trung_binh = data['Len_claim'].mean()\n",
        "\n",
        "do_dai_dai_nhat = data['Len_claim'].max()\n",
        "\n",
        "do_dai_ngan_nhat = data['Len_claim'].min()\n",
        "\n",
        "print('Độ dài trung bình:', do_dai_trung_binh)\n",
        "print('Độ dài dài nhất:', do_dai_dai_nhat)\n",
        "print('Độ dài ngắn nhất:', do_dai_ngan_nhat)\n",
        "print(\"median: \" ,data['Len_claim'].median())"
      ],
      "metadata": {
        "colab": {
          "base_uri": "https://localhost:8080/"
        },
        "id": "Ar1-0jTYypeo",
        "outputId": "366a7c0e-571f-4601-b394-0e91188173c6"
      },
      "execution_count": null,
      "outputs": [
        {
          "output_type": "stream",
          "name": "stdout",
          "text": [
            "Độ dài trung bình: 23.728632760028447\n",
            "Độ dài dài nhất: 130\n",
            "Độ dài ngắn nhất: 1\n",
            "median:  21.0\n"
          ]
        }
      ]
    },
    {
      "cell_type": "code",
      "source": [
        "grouped = data.groupby('verdict')['Len_claim'].agg(['mean', 'max', 'min', 'median'])\n",
        "\n",
        "print(grouped)"
      ],
      "metadata": {
        "colab": {
          "base_uri": "https://localhost:8080/"
        },
        "id": "SwDgbrmDytGN",
        "outputId": "1e25d147-9e71-4b94-dd90-ef9107409ab8"
      },
      "execution_count": null,
      "outputs": [
        {
          "output_type": "stream",
          "name": "stdout",
          "text": [
            "                mean  max  min  median\n",
            "verdict                               \n",
            "NEI        20.572280  114    3    18.0\n",
            "REFUTED    25.349341  130    2    22.0\n",
            "SUPPORTED  25.237995  124    1    22.0\n"
          ]
        }
      ]
    }
  ]
}